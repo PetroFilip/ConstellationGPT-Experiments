{
 "cells": [
  {
   "cell_type": "code",
   "execution_count": 1,
   "metadata": {},
   "outputs": [
    {
     "name": "stdout",
     "output_type": "stream",
     "text": [
      "Collecting bertopic\n",
      "  Cloning https://github.com/MaartenGr/BERTopic.git to c:\\users\\filipp03\\appdata\\local\\temp\\1\\pip-install-4zn3kmoa\\bertopic_2f8f3a61ffb94f95b2d948e024daeee1\n",
      "  Resolved https://github.com/MaartenGr/BERTopic.git to commit fca5a4f9df149609c7e3458d6b2c421194cea62c\n",
      "  Preparing metadata (setup.py): started\n",
      "  Preparing metadata (setup.py): finished with status 'done'\n",
      "Requirement already satisfied: numpy>=1.20.0 in c:\\anaconda3\\envs\\conda_env\\lib\\site-packages (from bertopic) (1.23.5)\n",
      "Requirement already satisfied: hdbscan>=0.8.29 in c:\\anaconda3\\envs\\conda_env\\lib\\site-packages (from bertopic) (0.8.29)\n",
      "Requirement already satisfied: umap-learn>=0.5.0 in c:\\anaconda3\\envs\\conda_env\\lib\\site-packages (from bertopic) (0.5.3)\n",
      "Requirement already satisfied: pandas>=1.1.5 in c:\\anaconda3\\envs\\conda_env\\lib\\site-packages (from bertopic) (1.5.3)\n",
      "Requirement already satisfied: scikit-learn>=0.22.2.post1 in c:\\anaconda3\\envs\\conda_env\\lib\\site-packages (from bertopic) (1.2.2)\n",
      "Requirement already satisfied: tqdm>=4.41.1 in c:\\anaconda3\\envs\\conda_env\\lib\\site-packages (from bertopic) (4.65.0)\n",
      "Requirement already satisfied: sentence-transformers>=0.4.1 in c:\\anaconda3\\envs\\conda_env\\lib\\site-packages (from bertopic) (2.2.2)\n",
      "Requirement already satisfied: plotly>=4.7.0 in c:\\anaconda3\\envs\\conda_env\\lib\\site-packages (from bertopic) (5.14.1)\n",
      "Requirement already satisfied: cython>=0.27 in c:\\anaconda3\\envs\\conda_env\\lib\\site-packages (from hdbscan>=0.8.29->bertopic) (0.29.33)\n",
      "Requirement already satisfied: scipy>=1.0 in c:\\anaconda3\\envs\\conda_env\\lib\\site-packages (from hdbscan>=0.8.29->bertopic) (1.10.1)\n",
      "Requirement already satisfied: joblib>=1.0 in c:\\anaconda3\\envs\\conda_env\\lib\\site-packages (from hdbscan>=0.8.29->bertopic) (1.2.0)\n",
      "Requirement already satisfied: python-dateutil>=2.8.1 in c:\\anaconda3\\envs\\conda_env\\lib\\site-packages (from pandas>=1.1.5->bertopic) (2.8.2)\n",
      "Requirement already satisfied: pytz>=2020.1 in c:\\anaconda3\\envs\\conda_env\\lib\\site-packages (from pandas>=1.1.5->bertopic) (2023.3)\n",
      "Requirement already satisfied: tenacity>=6.2.0 in c:\\anaconda3\\envs\\conda_env\\lib\\site-packages (from plotly>=4.7.0->bertopic) (8.2.2)\n",
      "Requirement already satisfied: packaging in c:\\anaconda3\\envs\\conda_env\\lib\\site-packages (from plotly>=4.7.0->bertopic) (23.0)\n",
      "Requirement already satisfied: threadpoolctl>=2.0.0 in c:\\anaconda3\\envs\\conda_env\\lib\\site-packages (from scikit-learn>=0.22.2.post1->bertopic) (2.2.0)\n",
      "Requirement already satisfied: transformers<5.0.0,>=4.6.0 in c:\\anaconda3\\envs\\conda_env\\lib\\site-packages (from sentence-transformers>=0.4.1->bertopic) (4.29.2)\n",
      "Requirement already satisfied: torch>=1.6.0 in c:\\anaconda3\\envs\\conda_env\\lib\\site-packages (from sentence-transformers>=0.4.1->bertopic) (2.0.1)\n",
      "Requirement already satisfied: torchvision in c:\\anaconda3\\envs\\conda_env\\lib\\site-packages (from sentence-transformers>=0.4.1->bertopic) (0.15.2)\n",
      "Requirement already satisfied: nltk in c:\\anaconda3\\envs\\conda_env\\lib\\site-packages (from sentence-transformers>=0.4.1->bertopic) (3.8.1)\n",
      "Requirement already satisfied: sentencepiece in c:\\anaconda3\\envs\\conda_env\\lib\\site-packages (from sentence-transformers>=0.4.1->bertopic) (0.1.99)\n",
      "Requirement already satisfied: huggingface-hub>=0.4.0 in c:\\anaconda3\\envs\\conda_env\\lib\\site-packages (from sentence-transformers>=0.4.1->bertopic) (0.14.1)\n",
      "Requirement already satisfied: colorama in c:\\anaconda3\\envs\\conda_env\\lib\\site-packages (from tqdm>=4.41.1->bertopic) (0.4.6)\n",
      "Requirement already satisfied: numba>=0.49 in c:\\anaconda3\\envs\\conda_env\\lib\\site-packages (from umap-learn>=0.5.0->bertopic) (0.57.0)\n",
      "Requirement already satisfied: pynndescent>=0.5 in c:\\anaconda3\\envs\\conda_env\\lib\\site-packages (from umap-learn>=0.5.0->bertopic) (0.5.10)\n",
      "Requirement already satisfied: filelock in c:\\anaconda3\\envs\\conda_env\\lib\\site-packages (from huggingface-hub>=0.4.0->sentence-transformers>=0.4.1->bertopic) (3.12.0)\n",
      "Requirement already satisfied: fsspec in c:\\anaconda3\\envs\\conda_env\\lib\\site-packages (from huggingface-hub>=0.4.0->sentence-transformers>=0.4.1->bertopic) (2023.5.0)\n",
      "Requirement already satisfied: requests in c:\\anaconda3\\envs\\conda_env\\lib\\site-packages (from huggingface-hub>=0.4.0->sentence-transformers>=0.4.1->bertopic) (2.29.0)\n",
      "Requirement already satisfied: pyyaml>=5.1 in c:\\anaconda3\\envs\\conda_env\\lib\\site-packages (from huggingface-hub>=0.4.0->sentence-transformers>=0.4.1->bertopic) (6.0)\n",
      "Requirement already satisfied: typing-extensions>=3.7.4.3 in c:\\anaconda3\\envs\\conda_env\\lib\\site-packages (from huggingface-hub>=0.4.0->sentence-transformers>=0.4.1->bertopic) (4.6.2)\n",
      "Requirement already satisfied: llvmlite<0.41,>=0.40.0dev0 in c:\\anaconda3\\envs\\conda_env\\lib\\site-packages (from numba>=0.49->umap-learn>=0.5.0->bertopic) (0.40.0)\n",
      "Requirement already satisfied: six>=1.5 in c:\\anaconda3\\envs\\conda_env\\lib\\site-packages (from python-dateutil>=2.8.1->pandas>=1.1.5->bertopic) (1.16.0)\n",
      "Requirement already satisfied: sympy in c:\\anaconda3\\envs\\conda_env\\lib\\site-packages (from torch>=1.6.0->sentence-transformers>=0.4.1->bertopic) (1.12)\n",
      "Requirement already satisfied: networkx in c:\\anaconda3\\envs\\conda_env\\lib\\site-packages (from torch>=1.6.0->sentence-transformers>=0.4.1->bertopic) (3.1)\n",
      "Requirement already satisfied: jinja2 in c:\\anaconda3\\envs\\conda_env\\lib\\site-packages (from torch>=1.6.0->sentence-transformers>=0.4.1->bertopic) (3.1.2)\n",
      "Requirement already satisfied: regex!=2019.12.17 in c:\\anaconda3\\envs\\conda_env\\lib\\site-packages (from transformers<5.0.0,>=4.6.0->sentence-transformers>=0.4.1->bertopic) (2023.5.5)\n",
      "Requirement already satisfied: tokenizers!=0.11.3,<0.14,>=0.11.1 in c:\\anaconda3\\envs\\conda_env\\lib\\site-packages (from transformers<5.0.0,>=4.6.0->sentence-transformers>=0.4.1->bertopic) (0.13.3)\n",
      "Requirement already satisfied: click in c:\\anaconda3\\envs\\conda_env\\lib\\site-packages (from nltk->sentence-transformers>=0.4.1->bertopic) (8.1.3)\n",
      "Requirement already satisfied: pillow!=8.3.*,>=5.3.0 in c:\\anaconda3\\envs\\conda_env\\lib\\site-packages (from torchvision->sentence-transformers>=0.4.1->bertopic) (9.5.0)\n",
      "Requirement already satisfied: MarkupSafe>=2.0 in c:\\anaconda3\\envs\\conda_env\\lib\\site-packages (from jinja2->torch>=1.6.0->sentence-transformers>=0.4.1->bertopic) (2.1.2)\n",
      "Requirement already satisfied: charset-normalizer<4,>=2 in c:\\anaconda3\\envs\\conda_env\\lib\\site-packages (from requests->huggingface-hub>=0.4.0->sentence-transformers>=0.4.1->bertopic) (2.0.4)\n",
      "Requirement already satisfied: idna<4,>=2.5 in c:\\anaconda3\\envs\\conda_env\\lib\\site-packages (from requests->huggingface-hub>=0.4.0->sentence-transformers>=0.4.1->bertopic) (3.4)\n",
      "Requirement already satisfied: urllib3<1.27,>=1.21.1 in c:\\anaconda3\\envs\\conda_env\\lib\\site-packages (from requests->huggingface-hub>=0.4.0->sentence-transformers>=0.4.1->bertopic) (1.26.16)\n",
      "Requirement already satisfied: certifi>=2017.4.17 in c:\\anaconda3\\envs\\conda_env\\lib\\site-packages (from requests->huggingface-hub>=0.4.0->sentence-transformers>=0.4.1->bertopic) (2023.5.7)\n",
      "Requirement already satisfied: mpmath>=0.19 in c:\\anaconda3\\envs\\conda_env\\lib\\site-packages (from sympy->torch>=1.6.0->sentence-transformers>=0.4.1->bertopic) (1.3.0)\n"
     ]
    },
    {
     "name": "stderr",
     "output_type": "stream",
     "text": [
      "  Running command git clone --filter=blob:none --quiet https://github.com/MaartenGr/BERTopic.git 'C:\\Users\\filipp03\\AppData\\Local\\Temp\\1\\pip-install-4zn3kmoa\\bertopic_2f8f3a61ffb94f95b2d948e024daeee1'\n"
     ]
    }
   ],
   "source": [
    "# !conda install -c conda-forge chardet \n",
    "# !pip install git+https://github.com/MaartenGr/BERTopic.git#egg=bertopic\n",
    "# !python -m pip install charset-normalizer==2.1.0"
   ]
  },
  {
   "cell_type": "code",
   "execution_count": 2,
   "metadata": {},
   "outputs": [],
   "source": [
    "from bertopic import BERTopic\n",
    "# from sentence_transformers import SentenceTransformer\n",
    "from pull_graph_data_constellation_2023 import (\n",
    "    driver,\n",
    "    get_all_study_names,\n",
    "    grab_all_doc_content_ordered,\n",
    ")\n",
    "import pandas as pd"
   ]
  },
  {
   "cell_type": "code",
   "execution_count": 3,
   "metadata": {},
   "outputs": [],
   "source": [
    "# create graphdb session\n",
    "session = driver.session()\n",
    "\n",
    "topic_model = BERTopic(embedding_model=\"microsoft/BiomedNLP-PubMedBERT-base-uncased-abstract-fulltext\")\n",
    "# \"microsoft/BiomedNLP-PubMedBERT-base-uncased-abstract-fulltext\"\n",
    "# \"emilyalsentzer/Bio_ClinicalBERT\""
   ]
  },
  {
   "cell_type": "code",
   "execution_count": 4,
   "metadata": {},
   "outputs": [],
   "source": [
    "def split_string(string, n):\n",
    "    return [string[i:i+n] for i in range(0, len(string), n)]\n",
    "\n",
    "# query graph for document data\n",
    "study_ids = get_all_study_names(session)[:3]\n",
    "\n",
    "docs = []  # holds reconstructed protocols for each study has strings\n",
    "for study_id in study_ids:\n",
    "    # gather document chunks from graph\n",
    "    doc_chunks_split = []\n",
    "    doc_chunks = grab_all_doc_content_ordered(study_id, session)\n",
    "    \n",
    "    for chunk in doc_chunks:\n",
    "        if len(chunk) > 1000:\n",
    "            split_chunks = split_string(chunk, 1000)\n",
    "            doc_chunks_split.extend(split_chunks)\n",
    "        else:\n",
    "            doc_chunks_split.append(chunk)\n",
    "    docs.extend(doc_chunks_split)\n",
    "    \n"
   ]
  },
  {
   "cell_type": "code",
   "execution_count": 5,
   "metadata": {},
   "outputs": [
    {
     "data": {
      "text/plain": [
       "1510"
      ]
     },
     "execution_count": 5,
     "metadata": {},
     "output_type": "execute_result"
    }
   ],
   "source": [
    "len(docs)"
   ]
  },
  {
   "cell_type": "code",
   "execution_count": 6,
   "metadata": {},
   "outputs": [
    {
     "name": "stderr",
     "output_type": "stream",
     "text": [
      "Downloading (…)0f386/.gitattributes: 100%|██████████| 391/391 [00:00<00:00, 390kB/s]\n",
      "Downloading (…)2ff30f386/LICENSE.md: 100%|██████████| 1.07k/1.07k [00:00<?, ?B/s]\n",
      "Downloading (…)12ff30f386/README.md: 100%|██████████| 2.05k/2.05k [00:00<?, ?B/s]\n",
      "Downloading (…)ff30f386/config.json: 100%|██████████| 385/385 [00:00<00:00, 353kB/s]\n",
      "Downloading pytorch_model.bin: 100%|██████████| 440M/440M [01:02<00:00, 6.99MB/s] \n",
      "Downloading (…)okenizer_config.json: 100%|██████████| 28.0/28.0 [00:00<?, ?B/s]\n",
      "Downloading (…)12ff30f386/vocab.txt: 100%|██████████| 226k/226k [00:00<00:00, 2.46MB/s]\n",
      "No sentence-transformers model found with name C:\\Users\\filipp03/.cache\\torch\\sentence_transformers\\microsoft_BiomedNLP-PubMedBERT-base-uncased-abstract-fulltext. Creating a new one with MEAN pooling.\n",
      "Some weights of the model checkpoint at C:\\Users\\filipp03/.cache\\torch\\sentence_transformers\\microsoft_BiomedNLP-PubMedBERT-base-uncased-abstract-fulltext were not used when initializing BertModel: ['cls.predictions.transform.dense.weight', 'cls.predictions.decoder.bias', 'cls.predictions.decoder.weight', 'cls.predictions.transform.LayerNorm.weight', 'cls.predictions.transform.LayerNorm.bias', 'cls.predictions.bias', 'cls.seq_relationship.bias', 'cls.predictions.transform.dense.bias', 'cls.seq_relationship.weight']\n",
      "- This IS expected if you are initializing BertModel from the checkpoint of a model trained on another task or with another architecture (e.g. initializing a BertForSequenceClassification model from a BertForPreTraining model).\n",
      "- This IS NOT expected if you are initializing BertModel from the checkpoint of a model that you expect to be exactly identical (initializing a BertForSequenceClassification model from a BertForSequenceClassification model).\n"
     ]
    },
    {
     "name": "stdout",
     "output_type": "stream",
     "text": [
      "    Topic  Count                                             Name  \\\n",
      "0      -1    382                                -1_the_and_of_for   \n",
      "1       0    120                    0_the_study_investigator_will   \n",
      "2       1     73                               1_td_tr_colspan_10   \n",
      "3       2     72                 2_bempegaldesleukin_dose_be_nktr   \n",
      "4       3     57                               3_pd_with_in_cells   \n",
      "5       4     43                            4_td_tr_table_section   \n",
      "6       5     43  5_considerations_statistical_design_operational   \n",
      "7       6     42              6_disease_imaging_progression_tumor   \n",
      "8       7     35                       7_dose_dlt_combination_the   \n",
      "9       8     32                8_cancer_patients_in_chemotherapy   \n",
      "10      9     31               9_itch_itching_items_questionnaire   \n",
      "11     10     31            10_topical_eg_medications_concomitant   \n",
      "12     11     30                     11_will_the_primary_analysis   \n",
      "13     12     30                            12_uln_ast_alt_values   \n",
      "14     13     27                13_related_cohort_expansion_teaes   \n",
      "15     14     26                                  14_tr_td_non_pd   \n",
      "16     15     24                 15_blood_whole_collected_samples   \n",
      "17     16     24                    16_or_prior_vaccine_infection   \n",
      "18     17     23                        17_cycle_be_day_performed   \n",
      "19     18     23                              18_was_in_plasma_of   \n",
      "20     19     23                             19_al_et_cancer_2015   \n",
      "21     20     22              20_exposure_form_pregnant_pregnancy   \n",
      "22     21     21                            21_was_patients_ci_95   \n",
      "23     22     21                      22_hospitalization_an_ae_or   \n",
      "24     23     21                       23_grade_consider_td_taper   \n",
      "25     24     19              24_lesions_target_measurable_lesion   \n",
      "26     25     19                      25_tissue_tumor_biopsy_ffpe   \n",
      "27     26     18           26_analyses_statistical_samples_sample   \n",
      "28     27     18     27_contraception_contraceptive_wocbp_methods   \n",
      "29     28     16                 28_sae_causality_ae_investigator   \n",
      "30     29     15              29_chemotherapy_avelumab_in_regimen   \n",
      "31     30     15                    30_toxicity_grade_baseline_if   \n",
      "32     31     14                       31_pfs_death_date_censored   \n",
      "33     32     14        32_nktr_214_bempegaldesleukin_combination   \n",
      "34     33     13     33_appendix_questionnaire_suicide_dermatitis   \n",
      "35     34     13                  34_pf_tdap_04965842_adolescents   \n",
      "36     35     13                 35_12_adolescent_points_moderate   \n",
      "37     36     12                                 36_td_you_tr_had   \n",
      "38     37     12           37_chemotherapy_arm_avelumab_debulking   \n",
      "39     38     12                            38_colspan_td_only_tr   \n",
      "40     39     11               39_laboratory_tests_clinically_the   \n",
      "\n",
      "                                       Representation  \\\n",
      "0    [the, and, of, for, to, be, study, in, will, or]   \n",
      "1   [the, study, investigator, will, site, to, and...   \n",
      "2   [td, tr, colspan, 10, 006, table, 003, mg, dos...   \n",
      "3   [bempegaldesleukin, dose, be, nktr, 214, infus...   \n",
      "4   [pd, with, in, cells, l1, cancer, tumor, activ...   \n",
      "5   [td, tr, table, section, dose, grade, infusion...   \n",
      "6   [considerations, statistical, design, operatio...   \n",
      "7   [disease, imaging, progression, tumor, treatme...   \n",
      "8   [dose, dlt, combination, the, model, participa...   \n",
      "9   [cancer, patients, in, chemotherapy, setting, ...   \n",
      "10  [itch, itching, items, questionnaire, severity...   \n",
      "11  [topical, eg, medications, concomitant, therap...   \n",
      "12  [will, the, primary, analysis, be, arm, at, si...   \n",
      "13  [uln, ast, alt, values, liver, tbili, or, bili...   \n",
      "14  [related, cohort, expansion, teaes, pooled, we...   \n",
      "15  [tr, td, non, pd, adverse, cr, event, virus, n...   \n",
      "16  [blood, whole, collected, samples, sample, wil...   \n",
      "17  [or, prior, vaccine, infection, within, tb, hi...   \n",
      "18  [cycle, be, day, performed, at, ecgs, will, on...   \n",
      "19  [was, in, plasma, of, dose, cmax, paclitaxel, ...   \n",
      "20  [al, et, cancer, 2015, clin, atopic, oncol, ov...   \n",
      "21  [exposure, form, pregnant, pregnancy, informat...   \n",
      "22  [was, patients, ci, 95, in, with, months, orr,...   \n",
      "23  [hospitalization, an, ae, or, not, definition,...   \n",
      "24  [grade, consider, td, taper, steroids, tr, if,...   \n",
      "25  [lesions, target, measurable, lesion, non, dis...   \n",
      "26  [tissue, tumor, biopsy, ffpe, novo, block, be,...   \n",
      "27  [analyses, statistical, samples, sample, be, p...   \n",
      "28  [contraception, contraceptive, wocbp, methods,...   \n",
      "29  [sae, causality, ae, investigator, information...   \n",
      "30  [chemotherapy, avelumab, in, regimen, with, be...   \n",
      "31  [toxicity, grade, baseline, if, resolve, perma...   \n",
      "32  [pfs, death, date, censored, first, will, an, ...   \n",
      "33  [nktr, 214, bempegaldesleukin, combination, ph...   \n",
      "34  [appendix, questionnaire, suicide, dermatitis,...   \n",
      "35  [pf, tdap, 04965842, adolescents, ad, immunoge...   \n",
      "36  [12, adolescent, points, moderate, age, baseli...   \n",
      "37  [td, you, tr, had, have, your, problems, skin,...   \n",
      "38  [chemotherapy, arm, avelumab, debulking, neoad...   \n",
      "39  [colspan, td, only, tr, days, paclitaxel, cycl...   \n",
      "40  [laboratory, tests, clinically, the, be, visit...   \n",
      "\n",
      "                                  Representative_Docs  \n",
      "0   [ the endpoint and the associated analyses are...  \n",
      "1   [Data Quality Assurance\\n\\nAll participant dat...  \n",
      "2   [td>\\n<td></td>\\n<td>Ave (mg/kg IV Q2W)</td>\\n...  \n",
      "3   [inistration, as per Section 6.1.2.1.1.  In ad...  \n",
      "4   [vity over single-agent checkpoint inhibitor i...  \n",
      "5   [td colspan=\"4\">Table 16. Avelumab + Bempegald...  \n",
      "6   [Supporting Documentation and Operational Cons...  \n",
      "7   [ll also be conducted whenever disease progres...  \n",
      "8   [Appendix 13: BLRM Design for Enzalutamide Tri...  \n",
      "9   [ clear cell histology).Chemotherapy is admini...  \n",
      "10  [Peak Pruritus Numerical Rating Scale (NRS)\\n\\...  \n",
      "11  [Prohibited Medications and Treatments\\n\\nPart...  \n",
      "12  [zed.The data cutoff for the primary PFS analy...  \n",
      "13  [still elevated above 3 × ULN (ie, AST/ALT and...  \n",
      "14  [ and the ovarian cancer expansion cohort are ...  \n",
      "15  [on test</td>\\n</tr>\\n<tr>\\n<td>LLN</td>\\n<td>...  \n",
      "16  [Blood for PK Analysis of Bempegaldesleukin (N...  \n",
      "17  [e TB infection as determined by a qualified r...  \n",
      "18  [ree T4, TSH, and ACTH will be performed at sc...  \n",
      "19  [tics\\n\\nIn patients with creatinine clearance...  \n",
      "20  [Med 2011; 365;26.\\n\\nBurger RA, Brady MF, Boo...  \n",
      "21  [found to be pregnant after discontinuing and/...  \n",
      "22  [Avelumab Clinical Experience\\n\\nThe safety pr...  \n",
      "23  [Definition of SAE\\n\\nIf an event is not an AE...  \n",
      "24  [kin biopsy \\nConsider 0.5-1.0 mg/kg/day predn...  \n",
      "25  [at a previously documented 30% decrease no lo...  \n",
      "26  [d tissue. A minimum of 3 separate cores are r...  \n",
      "27  [Collection of Samples for Pharmacodynamic Ana...  \n",
      "28  [Lifestyle Considerations\\n\\nContraception: Pl...  \n",
      "29  [Follow-up of AEs and SAEs\\n\\nAfter the initia...  \n",
      "30  [g, diarrhea, fatigue, arthralgia, myalgia, an...  \n",
      "31  [mab if toxicity does not resolve to Grade ≤1 ...  \n",
      "32  [Maintenance Progression-Free Survival\\n\\nMain...  \n",
      "33  [se 2 Combination C\\nPhase 2 Combination C\\nSt...  \n",
      "34  [Appendix 25: Dermatitis Family Impact Questio...  \n",
      "35  [Study Rationale\\n\\nPF-04965842 is being devel...  \n",
      "36  [d 12;\\nTime to achieve at least 4 points impr...  \n",
      "37  [td>6.</td>\\n<td>Have you had problems swallow...  \n",
      "38  [Study Design\\n\\nThis is a Phase 3, open-label...  \n",
      "39  [colspan=\"2\"></td>\\n<td colspan=\"2\"></td>\\n<td...  \n",
      "40  [o 3 days prior to the scheduled clinic visit,...  \n"
     ]
    }
   ],
   "source": [
    "topics, probs = topic_model.fit_transform(docs)\n",
    "\n",
    "# Each row in the df corresponds to a topic (or a cluster)\n",
    "# 'Count' is how many documents are clustered in it\n",
    "# The integer is the index of the topic\n",
    "df = topic_model.get_topic_info()\n",
    "print(df)\n",
    "\n",
    "# Write DataFrame to a CSV file\n",
    "df.to_csv(\"PubMEDBERT_topics.csv\", index=False)"
   ]
  },
  {
   "cell_type": "code",
   "execution_count": null,
   "metadata": {},
   "outputs": [],
   "source": [
    "# Each topic has a number of top keywords associated with it, some are show under the 'Name' column\n",
    "# To get more keywords under a topic: \n",
    "topic_model.get_topic(50)"
   ]
  },
  {
   "cell_type": "code",
   "execution_count": null,
   "metadata": {},
   "outputs": [],
   "source": [
    "# To get the top documents associated (clustered the cloesest) with a given topic: \n",
    "topic_model.get_representative_docs(42)"
   ]
  },
  {
   "cell_type": "code",
   "execution_count": null,
   "metadata": {},
   "outputs": [],
   "source": [
    "# To build a dataframe assigning each document with its topic:\n",
    "df = pd.DataFrame({\"topics\":topics, \"Documents\": docs})\n",
    "df"
   ]
  },
  {
   "cell_type": "code",
   "execution_count": null,
   "metadata": {},
   "outputs": [],
   "source": [
    "topic_model.visualize_topics()"
   ]
  },
  {
   "cell_type": "code",
   "execution_count": null,
   "metadata": {},
   "outputs": [],
   "source": [
    "# close graphdb session at end\n",
    "session.close()\n",
    "driver.close()"
   ]
  }
 ],
 "metadata": {
  "kernelspec": {
   "display_name": "conda_env3.10",
   "language": "python",
   "name": "python3"
  },
  "language_info": {
   "codemirror_mode": {
    "name": "ipython",
    "version": 3
   },
   "file_extension": ".py",
   "mimetype": "text/x-python",
   "name": "python",
   "nbconvert_exporter": "python",
   "pygments_lexer": "ipython3",
   "version": "3.10.11"
  },
  "orig_nbformat": 4,
  "vscode": {
   "interpreter": {
    "hash": "07cb100c0887d2fcef5902f012646894959a139f3bdf389ecb061df79fb69420"
   }
  }
 },
 "nbformat": 4,
 "nbformat_minor": 2
}
